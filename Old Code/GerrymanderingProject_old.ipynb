{
  "nbformat": 4,
  "nbformat_minor": 0,
  "metadata": {
    "colab": {
      "provenance": []
    },
    "kernelspec": {
      "name": "python3",
      "display_name": "Python 3"
    },
    "language_info": {
      "name": "python"
    }
  },
  "cells": [
    {
      "cell_type": "markdown",
      "source": [
        "grouping villages by population in mapping python gis\n",
        "\n",
        "https://towardsdatascience.com/mapping-geograph-data-in-python-610a963d2d7f\n",
        "\n",
        "https://pro.arcgis.com/en/pro-app/latest/tool-reference/spatial-statistics/how-grouping-analysis-works.htm\n",
        "\n",
        "https://gis.stackexchange.com/questions/306547/cluster-points-into-evenly-numbered-groups\n",
        "\n",
        "https://gis.stackexchange.com/questions/123289/grouping-village-points-based-on-distance-and-population-size-using-arcmap/123297#123297\n",
        "\n",
        "https://www.census.gov/geographies/mapping-files/time-series/geo/carto-boundary-file.html\n",
        "\n",
        "https://gis.utah.gov/"
      ],
      "metadata": {
        "id": "0JWVLcNv6DOo"
      }
    },
    {
      "cell_type": "code",
      "source": [
        "pip install pyshp"
      ],
      "metadata": {
        "colab": {
          "base_uri": "https://localhost:8080/"
        },
        "id": "G_pkn-J3y-ll",
        "outputId": "f5bec43c-b87e-4a41-d6dd-6d9fd5c18609"
      },
      "execution_count": null,
      "outputs": [
        {
          "output_type": "stream",
          "name": "stdout",
          "text": [
            "Looking in indexes: https://pypi.org/simple, https://us-python.pkg.dev/colab-wheels/public/simple/\n",
            "Collecting pyshp\n",
            "  Downloading pyshp-2.3.1-py2.py3-none-any.whl (46 kB)\n",
            "\u001b[2K     \u001b[90m━━━━━━━━━━━━━━━━━━━━━━━━━━━━━━━━━━━━━━━━\u001b[0m \u001b[32m46.5/46.5 KB\u001b[0m \u001b[31m3.5 MB/s\u001b[0m eta \u001b[36m0:00:00\u001b[0m\n",
            "\u001b[?25hInstalling collected packages: pyshp\n",
            "Successfully installed pyshp-2.3.1\n"
          ]
        }
      ]
    },
    {
      "cell_type": "code",
      "source": [
        "pip install shapefile"
      ],
      "metadata": {
        "colab": {
          "base_uri": "https://localhost:8080/"
        },
        "id": "CkNzKq65TKcJ",
        "outputId": "c04e7feb-aaf0-400b-d21f-dc5ed9a1ecf2"
      },
      "execution_count": null,
      "outputs": [
        {
          "output_type": "stream",
          "name": "stdout",
          "text": [
            "Looking in indexes: https://pypi.org/simple, https://us-python.pkg.dev/colab-wheels/public/simple/\n",
            "\u001b[31mERROR: Could not find a version that satisfies the requirement shapefile (from versions: none)\u001b[0m\u001b[31m\n",
            "\u001b[0m\u001b[31mERROR: No matching distribution found for shapefile\u001b[0m\u001b[31m\n",
            "\u001b[0m"
          ]
        }
      ]
    },
    {
      "cell_type": "code",
      "execution_count": null,
      "metadata": {
        "id": "F_jzDPD8Q5B7"
      },
      "outputs": [],
      "source": [
        "import numpy as np\n",
        "import pandas as pd\n",
        "import shapefile as shp\n",
        "import matplotlib.pyplot as plt\n",
        "import seaborn as sns"
      ]
    },
    {
      "cell_type": "code",
      "source": [
        "import json\n",
        "\n",
        "# Define the GeoJSON data\n",
        "data = {\n",
        "    \"type\": \"FeatureCollection\",\n",
        "    \"features\": [\n",
        "        {\n",
        "            \"type\": \"Feature\",\n",
        "            \"geometry\": {\n",
        "                \"type\": \"Polygon\",\n",
        "                \"coordinates\": [[[-97.5, 26.5], [-97.5, 30.5], [-93.5, 30.5], [-93.5, 26.5], [-97.5, 26.5]]]\n",
        "            },\n",
        "            \"properties\": {\n",
        "                \"district_id\": 1,\n",
        "                \"district_name\": \"District 1\"\n",
        "            }\n",
        "        },\n",
        "        {\n",
        "            \"type\": \"Feature\",\n",
        "            \"geometry\": {\n",
        "                \"type\": \"Polygon\",\n",
        "                \"coordinates\": [[[-97.5, 26.5], [-97.5, 30.5], [-93.5, 30.5], [-93.5, 26.5], [-97.5, 26.5]]]\n",
        "            },\n",
        "            \"properties\": {\n",
        "                \"district_id\": 2,\n",
        "                \"district_name\": \"District 2\"\n",
        "            }\n",
        "        }\n",
        "    ]\n",
        "}\n",
        "\n",
        "{\n",
        "    \"type\": \"FeatureCollection\",\n",
        "    \"features\": [\n",
        "        {\n",
        "            \"type\": \"Feature\",\n",
        "            \"geometry\": {\n",
        "                \"type\": \"Polygon\",\n",
        "                \"coordinates\": [\n",
        "                    [\n",
        "                        [-106.0, 25.0],\n",
        "                        [-93.0, 25.0],\n",
        "                        [-93.0, 36.0],\n",
        "                        [-106.0, 36.0],\n",
        "                        [-106.0, 25.0]\n",
        "                    ]\n",
        "                ]\n",
        "            },\n",
        "            \"properties\": {\n",
        "                \"DISTRICT\": \"1\",\n",
        "                \"DISTRICT_N\": \"District 1\"\n",
        "            }\n",
        "        },\n",
        "        {\n",
        "            \"type\": \"Feature\",\n",
        "            \"geometry\": {\n",
        "                \"type\": \"Polygon\",\n",
        "                \"coordinates\": [\n",
        "                    [\n",
        "                        [-106.0, 25.0],\n",
        "                        [-93.0, 25.0],\n",
        "                        [-93.0, 30.0],\n",
        "                        [-106.0, 30.0],\n",
        "                        [-106.0, 25.0]\n",
        "                    ]\n",
        "                ]\n",
        "            },\n",
        "            \"properties\": {\n",
        "                \"DISTRICT\": \"2\",\n",
        "                \"DISTRICT_N\": \"District 2\"\n",
        "            }\n",
        "        },\n",
        "        {\n",
        "            \"type\": \"Feature\",\n",
        "            \"geometry\": {\n",
        "                \"type\": \"Polygon\",\n",
        "                \"coordinates\": [\n",
        "                    [\n",
        "                        [-106.0, 30.0],\n",
        "                        [-93.0, 30.0],\n",
        "                        [-93.0, 36.0],\n",
        "                        [-106.0, 36.0],\n",
        "                        [-106.0, 30.0]\n",
        "                    ]\n",
        "                ]\n",
        "            },\n",
        "            \"properties\": {\n",
        "                \"DISTRICT\": \"3\",\n",
        "                \"DISTRICT_N\": \"District 3\"\n",
        "            }\n",
        "        }\n",
        "    ]\n",
        "}\n",
        "\n",
        "import json\n",
        "\n",
        "# Create an empty list to store the feature objects\n",
        "features = []\n",
        "\n",
        "# Loop through the districts\n",
        "for i in range(1, 11):\n",
        "    # Create a feature object for the district\n",
        "    feature = {\n",
        "        \"type\": \"Feature\",\n",
        "        \"geometry\": {\n",
        "            \"type\": \"Polygon\",\n",
        "            \"coordinates\": [\n",
        "                [\n",
        "                    [-106.0, 25.0],\n",
        "                    [-93.0, 25.0],\n",
        "                    [-93.0, 36.0],\n",
        "                    [-106.0, 36.0],\n",
        "                    [-106.0, 25.0]\n",
        "                ]\n",
        "            ]\n",
        "        },\n",
        "        \"properties\": {\n",
        "            \"DISTRICT\": str(i),\n",
        "            \"DISTRICT_N\": \"District {}\".format(i)\n",
        "        }\n",
        "    }\n",
        "    # Add the feature object to the list\n",
        "    features.append(feature)\n",
        "\n",
        "# Create the GeoJSON data structure\n",
        "geojson = {\n",
        "    \"type\": \"FeatureCollection\",\n",
        "    \"features\": features\n",
        "}\n",
        "\n",
        "# Convert the GeoJSON data structure to a JSON string\n",
        "json_data = json.dumps(geojson)\n",
        "\n",
        "# Write the\n",
        "\n",
        "\n",
        "# Save the data to a file\n",
        "with open(\"texas_voting_districts.geojson\", \"w\") as f:\n",
        "    json.dump(data, f)"
      ],
      "metadata": {
        "id": "dZYvP-Sl6xQS"
      },
      "execution_count": null,
      "outputs": []
    },
    {
      "cell_type": "code",
      "source": [
        "pip install fiona"
      ],
      "metadata": {
        "colab": {
          "base_uri": "https://localhost:8080/"
        },
        "id": "GgZCKXvOC9Ws",
        "outputId": "326a9e81-1629-4853-fa79-906060e92236"
      },
      "execution_count": null,
      "outputs": [
        {
          "output_type": "stream",
          "name": "stdout",
          "text": [
            "Looking in indexes: https://pypi.org/simple, https://us-python.pkg.dev/colab-wheels/public/simple/\n",
            "Collecting fiona\n",
            "  Downloading Fiona-1.8.22-cp38-cp38-manylinux_2_17_x86_64.manylinux2014_x86_64.whl (16.6 MB)\n",
            "\u001b[2K     \u001b[90m━━━━━━━━━━━━━━━━━━━━━━━━━━━━━━━━━━━━━━━━\u001b[0m \u001b[32m16.6/16.6 MB\u001b[0m \u001b[31m60.5 MB/s\u001b[0m eta \u001b[36m0:00:00\u001b[0m\n",
            "\u001b[?25hRequirement already satisfied: six>=1.7 in /usr/local/lib/python3.8/dist-packages (from fiona) (1.15.0)\n",
            "Requirement already satisfied: setuptools in /usr/local/lib/python3.8/dist-packages (from fiona) (57.4.0)\n",
            "Collecting click-plugins>=1.0\n",
            "  Downloading click_plugins-1.1.1-py2.py3-none-any.whl (7.5 kB)\n",
            "Requirement already satisfied: attrs>=17 in /usr/local/lib/python3.8/dist-packages (from fiona) (22.2.0)\n",
            "Requirement already satisfied: click>=4.0 in /usr/local/lib/python3.8/dist-packages (from fiona) (7.1.2)\n",
            "Collecting munch\n",
            "  Downloading munch-2.5.0-py2.py3-none-any.whl (10 kB)\n",
            "Collecting cligj>=0.5\n",
            "  Downloading cligj-0.7.2-py3-none-any.whl (7.1 kB)\n",
            "Requirement already satisfied: certifi in /usr/local/lib/python3.8/dist-packages (from fiona) (2022.12.7)\n",
            "Installing collected packages: munch, cligj, click-plugins, fiona\n",
            "Successfully installed click-plugins-1.1.1 cligj-0.7.2 fiona-1.8.22 munch-2.5.0\n"
          ]
        }
      ]
    },
    {
      "cell_type": "code",
      "source": [
        "import fiona\n",
        "import shapefile as shp\n",
        "\n",
        "# Read in the GeoJSON file\n",
        "f = fiona.open(\"texas_voting_districts.geojson\", \"r\")\n",
        "data = f\n",
        "\n",
        "# Define the shapefile schema\n",
        "schema = {\n",
        "    'geometry': 'Polygon',\n",
        "    'properties': {\n",
        "        'district_id': 'int',\n",
        "        'district_name': 'str'\n",
        "    }\n",
        "}\n",
        "\n",
        "# Create the shapefile\n",
        "shapefile = fiona.open(\"texas_voting_districts.shp\", \"w\", \"ESRI Shapefile\", schema)\n",
        "\n",
        "# Loop through the features in the GeoJSON file and add them to the shapefile\n",
        "for feature in data:\n",
        "    shapefile.write(feature)\n",
        "\n",
        "f.close()\n",
        "shapefile.close()\n",
        "\n",
        "\n",
        "# Plots shapefile\n",
        "def plot_map(sf, x_lim = None, y_lim = None, figsize = (11,9)):\n",
        "    #Plot map with lim coordinates\n",
        "\n",
        "    plt.figure(figsize = figsize)\n",
        "    id=0\n",
        "    shapes = shapefile.shape(sf)\n",
        "    for shape in shapes:\n",
        "        x = [i[0] for i in shape.shape.points[:]]\n",
        "        y = [i[1] for i in shape.shape.points[:]]\n",
        "        plt.plot(x, y, 'k')\n",
        "\n",
        "        if (x_lim == None) & (y_lim == None):\n",
        "            x0 = np.mean(x)\n",
        "            y0 = np.mean(y)\n",
        "            plt.text(x0, y0, id, fontsize=10)\n",
        "        id = id+1\n",
        "\n",
        "    if (x_lim != None) & (y_lim != None):\n",
        "        plt.xlim(x_lim)\n",
        "        plt.ylim(y_lim)\n",
        "\n",
        "plot_map(shp)\n"
      ],
      "metadata": {
        "colab": {
          "base_uri": "https://localhost:8080/",
          "height": 373
        },
        "id": "RdJhqh_p1_yk",
        "outputId": "d7463990-075a-403f-8174-042618732ef4"
      },
      "execution_count": null,
      "outputs": [
        {
          "output_type": "stream",
          "name": "stderr",
          "text": [
            "WARNING:fiona._env:Normalized/laundered field name: 'district_id' to 'district_i'\n",
            "WARNING:fiona._env:Normalized/laundered field name: 'district_name' to 'district_n'\n"
          ]
        },
        {
          "output_type": "error",
          "ename": "AttributeError",
          "evalue": "ignored",
          "traceback": [
            "\u001b[0;31m---------------------------------------------------------------------------\u001b[0m",
            "\u001b[0;31mAttributeError\u001b[0m                            Traceback (most recent call last)",
            "\u001b[0;32m<ipython-input-18-5dbe081a3ecd>\u001b[0m in \u001b[0;36m<module>\u001b[0;34m\u001b[0m\n\u001b[1;32m     48\u001b[0m         \u001b[0mplt\u001b[0m\u001b[0;34m.\u001b[0m\u001b[0mylim\u001b[0m\u001b[0;34m(\u001b[0m\u001b[0my_lim\u001b[0m\u001b[0;34m)\u001b[0m\u001b[0;34m\u001b[0m\u001b[0;34m\u001b[0m\u001b[0m\n\u001b[1;32m     49\u001b[0m \u001b[0;34m\u001b[0m\u001b[0m\n\u001b[0;32m---> 50\u001b[0;31m \u001b[0mplot_map\u001b[0m\u001b[0;34m(\u001b[0m\u001b[0mshp\u001b[0m\u001b[0;34m)\u001b[0m\u001b[0;34m\u001b[0m\u001b[0;34m\u001b[0m\u001b[0m\n\u001b[0m",
            "\u001b[0;32m<ipython-input-18-5dbe081a3ecd>\u001b[0m in \u001b[0;36mplot_map\u001b[0;34m(sf, x_lim, y_lim, figsize)\u001b[0m\n\u001b[1;32m     32\u001b[0m     \u001b[0mplt\u001b[0m\u001b[0;34m.\u001b[0m\u001b[0mfigure\u001b[0m\u001b[0;34m(\u001b[0m\u001b[0mfigsize\u001b[0m \u001b[0;34m=\u001b[0m \u001b[0mfigsize\u001b[0m\u001b[0;34m)\u001b[0m\u001b[0;34m\u001b[0m\u001b[0;34m\u001b[0m\u001b[0m\n\u001b[1;32m     33\u001b[0m     \u001b[0mid\u001b[0m\u001b[0;34m=\u001b[0m\u001b[0;36m0\u001b[0m\u001b[0;34m\u001b[0m\u001b[0;34m\u001b[0m\u001b[0m\n\u001b[0;32m---> 34\u001b[0;31m     \u001b[0mshapes\u001b[0m \u001b[0;34m=\u001b[0m \u001b[0mshapefile\u001b[0m\u001b[0;34m.\u001b[0m\u001b[0mshape\u001b[0m\u001b[0;34m(\u001b[0m\u001b[0msf\u001b[0m\u001b[0;34m)\u001b[0m\u001b[0;34m\u001b[0m\u001b[0;34m\u001b[0m\u001b[0m\n\u001b[0m\u001b[1;32m     35\u001b[0m     \u001b[0;32mfor\u001b[0m \u001b[0mshape\u001b[0m \u001b[0;32min\u001b[0m \u001b[0mshapes\u001b[0m\u001b[0;34m:\u001b[0m\u001b[0;34m\u001b[0m\u001b[0;34m\u001b[0m\u001b[0m\n\u001b[1;32m     36\u001b[0m         \u001b[0mx\u001b[0m \u001b[0;34m=\u001b[0m \u001b[0;34m[\u001b[0m\u001b[0mi\u001b[0m\u001b[0;34m[\u001b[0m\u001b[0;36m0\u001b[0m\u001b[0;34m]\u001b[0m \u001b[0;32mfor\u001b[0m \u001b[0mi\u001b[0m \u001b[0;32min\u001b[0m \u001b[0mshape\u001b[0m\u001b[0;34m.\u001b[0m\u001b[0mshape\u001b[0m\u001b[0;34m.\u001b[0m\u001b[0mpoints\u001b[0m\u001b[0;34m[\u001b[0m\u001b[0;34m:\u001b[0m\u001b[0;34m]\u001b[0m\u001b[0;34m]\u001b[0m\u001b[0;34m\u001b[0m\u001b[0;34m\u001b[0m\u001b[0m\n",
            "\u001b[0;31mAttributeError\u001b[0m: 'Collection' object has no attribute 'shape'"
          ]
        },
        {
          "output_type": "display_data",
          "data": {
            "text/plain": [
              "<Figure size 792x648 with 0 Axes>"
            ]
          },
          "metadata": {}
        }
      ]
    },
    {
      "cell_type": "code",
      "source": [
        "import shapefile\n",
        "\n",
        "# Read in the shapefile\n",
        "sf = shapefile.Reader(\"texas_voting_districts.shp\")\n",
        "\n",
        "# Get the field names in the attribute table\n",
        "fields = sf.fields[1:]\n",
        "field_names = [field[0] for field in fields]\n",
        "\n",
        "print(field_names)\n",
        "\n",
        "# Create a list to store the attribute data for each shape\n",
        "records = sf.records()\n",
        "\n",
        "# Initialize the total population to 0\n",
        "total_population = 0\n",
        "\n",
        "# Loop through the records in the shapefile\n",
        "for record in records:\n",
        "    # Get the population for the current record\n",
        "    population = record[field_names.index(\"POPULATION\")]\n",
        "    # Add the population to the total\n",
        "    total_population += population\n",
        "\n",
        "# Print the total population\n",
        "print(total_population)\n"
      ],
      "metadata": {
        "colab": {
          "base_uri": "https://localhost:8080/",
          "height": 252
        },
        "id": "lHnDd7D9aiGl",
        "outputId": "c876edc0-c6e5-481a-e9bb-30ec5024965f"
      },
      "execution_count": null,
      "outputs": [
        {
          "output_type": "stream",
          "name": "stdout",
          "text": [
            "['district_i', 'district_n']\n"
          ]
        },
        {
          "output_type": "error",
          "ename": "ValueError",
          "evalue": "ignored",
          "traceback": [
            "\u001b[0;31m---------------------------------------------------------------------------\u001b[0m",
            "\u001b[0;31mValueError\u001b[0m                                Traceback (most recent call last)",
            "\u001b[0;32m<ipython-input-16-c9825f94704a>\u001b[0m in \u001b[0;36m<module>\u001b[0;34m\u001b[0m\n\u001b[1;32m     19\u001b[0m \u001b[0;32mfor\u001b[0m \u001b[0mrecord\u001b[0m \u001b[0;32min\u001b[0m \u001b[0mrecords\u001b[0m\u001b[0;34m:\u001b[0m\u001b[0;34m\u001b[0m\u001b[0;34m\u001b[0m\u001b[0m\n\u001b[1;32m     20\u001b[0m     \u001b[0;31m# Get the population for the current record\u001b[0m\u001b[0;34m\u001b[0m\u001b[0;34m\u001b[0m\u001b[0;34m\u001b[0m\u001b[0m\n\u001b[0;32m---> 21\u001b[0;31m     \u001b[0mpopulation\u001b[0m \u001b[0;34m=\u001b[0m \u001b[0mrecord\u001b[0m\u001b[0;34m[\u001b[0m\u001b[0mfield_names\u001b[0m\u001b[0;34m.\u001b[0m\u001b[0mindex\u001b[0m\u001b[0;34m(\u001b[0m\u001b[0;34m\"POPULATION\"\u001b[0m\u001b[0;34m)\u001b[0m\u001b[0;34m]\u001b[0m\u001b[0;34m\u001b[0m\u001b[0;34m\u001b[0m\u001b[0m\n\u001b[0m\u001b[1;32m     22\u001b[0m     \u001b[0;31m# Add the population to the total\u001b[0m\u001b[0;34m\u001b[0m\u001b[0;34m\u001b[0m\u001b[0;34m\u001b[0m\u001b[0m\n\u001b[1;32m     23\u001b[0m     \u001b[0mtotal_population\u001b[0m \u001b[0;34m+=\u001b[0m \u001b[0mpopulation\u001b[0m\u001b[0;34m\u001b[0m\u001b[0;34m\u001b[0m\u001b[0m\n",
            "\u001b[0;31mValueError\u001b[0m: 'POPULATION' is not in list"
          ]
        }
      ]
    },
    {
      "cell_type": "code",
      "source": [
        "num_districts = total_population / population_per_district\n",
        "\n",
        "# Read in the shapefile using PyShp\n",
        "sf = shapefile.Reader(\"texas.shp\")\n",
        "\n",
        "# Calculate the total population\n",
        "total_population = 0\n",
        "for record in sf.records():\n",
        "  population = record[1]\n",
        "  total_population += population\n",
        "\n",
        "print(total_population)\n",
        "\n",
        "# Calculate the number of districts needed\n",
        "num_districts = total_population / population_per_district\n",
        "\n",
        "# Create the districts using the \"dissolve\" function\n",
        "districts = sf.dissolve(by=\"POPULATION\", num_parts=num_districts)\n",
        "\n",
        "# Save the districts to a new shapefile\n",
        "districts.save(\"texas_districts.shp\")"
      ],
      "metadata": {
        "colab": {
          "base_uri": "https://localhost:8080/",
          "height": 235
        },
        "id": "M8aPaokfTSyA",
        "outputId": "d08a73ae-1456-48ff-baa2-a9a454e4aa06"
      },
      "execution_count": null,
      "outputs": [
        {
          "output_type": "error",
          "ename": "NameError",
          "evalue": "ignored",
          "traceback": [
            "\u001b[0;31m---------------------------------------------------------------------------\u001b[0m",
            "\u001b[0;31mNameError\u001b[0m                                 Traceback (most recent call last)",
            "\u001b[0;32m<ipython-input-20-68264f750213>\u001b[0m in \u001b[0;36m<module>\u001b[0;34m\u001b[0m\n\u001b[0;32m----> 1\u001b[0;31m \u001b[0mnum_districts\u001b[0m \u001b[0;34m=\u001b[0m \u001b[0mtotal_population\u001b[0m \u001b[0;34m/\u001b[0m \u001b[0mpopulation_per_district\u001b[0m\u001b[0;34m\u001b[0m\u001b[0;34m\u001b[0m\u001b[0m\n\u001b[0m\u001b[1;32m      2\u001b[0m \u001b[0;34m\u001b[0m\u001b[0m\n\u001b[1;32m      3\u001b[0m \u001b[0;31m# Read in the shapefile using PyShp\u001b[0m\u001b[0;34m\u001b[0m\u001b[0;34m\u001b[0m\u001b[0;34m\u001b[0m\u001b[0m\n\u001b[1;32m      4\u001b[0m \u001b[0msf\u001b[0m \u001b[0;34m=\u001b[0m \u001b[0mshapefile\u001b[0m\u001b[0;34m.\u001b[0m\u001b[0mReader\u001b[0m\u001b[0;34m(\u001b[0m\u001b[0;34m\"texas.shp\"\u001b[0m\u001b[0;34m)\u001b[0m\u001b[0;34m\u001b[0m\u001b[0;34m\u001b[0m\u001b[0m\n\u001b[1;32m      5\u001b[0m \u001b[0;34m\u001b[0m\u001b[0m\n",
            "\u001b[0;31mNameError\u001b[0m: name 'total_population' is not defined"
          ]
        }
      ]
    },
    {
      "cell_type": "code",
      "source": [
        "import folium\n",
        "import shapefile\n",
        "\n",
        "# Read in the shapefile using PyShp\n",
        "sf = shapefile.Reader(\"texas_voting_districts.shp\")\n",
        "\n",
        "# Create a Folium map centered on the state of Texas\n",
        "m = folium.Map(location=[31.9686, -99.9018], zoom_start=6)\n",
        "\n",
        "# Loop through the shapes in the shapefile and add them to the map as polygons\n",
        "for shape in sf.shapes():\n",
        "  # Get the coordinates of the polygon\n",
        "  coords = shape.points\n",
        "\n",
        "  # Create a Folium Polygon object\n",
        "  poly = folium.Polygon(coords, color=\"red\", fill=True)\n",
        "\n",
        "  # Add the polygon to the map\n",
        "  poly.add_to(m)\n",
        "\n",
        "# Save the map to an HTML file\n",
        "m.save(\"texas_map.html\")\n"
      ],
      "metadata": {
        "id": "S_uHfIwtTn76"
      },
      "execution_count": null,
      "outputs": []
    },
    {
      "cell_type": "code",
      "source": [
        "import shapefile\n",
        "import matplotlib.pyplot as plt\n",
        "\n",
        "# Read in the shapefile\n",
        "sf = shapefile.Reader(\"texas_voting_districts.shp\")\n",
        "\n",
        "# Set the limits for the x-axis and y-axis\n",
        "x_lim = [-106, -93]\n",
        "y_lim = [25, 36]\n",
        "\n",
        "# Create a figure and an axis\n",
        "fig, ax = plt.subplots()\n",
        "\n",
        "# Loop through the shapes in the shapefile and plot them\n",
        "for shape in sf.shapes():\n",
        "    x = [point[0] for point in shape.points]\n",
        "    y = [point[1] for point in shape.points]\n",
        "    ax.plot(x, y)\n",
        "\n",
        "# Set the limits for the x-axis and y-axis\n",
        "ax.set_xlim(x_lim)\n",
        "ax.set_ylim(y_lim)\n",
        "\n",
        "# Show the plot\n",
        "plt.show()\n"
      ],
      "metadata": {
        "colab": {
          "base_uri": "https://localhost:8080/",
          "height": 269
        },
        "id": "LxRi30GeVTvO",
        "outputId": "e38be246-6fdc-4253-9c11-400cb9337a96"
      },
      "execution_count": null,
      "outputs": [
        {
          "output_type": "display_data",
          "data": {
            "text/plain": [
              "<Figure size 432x288 with 1 Axes>"
            ],
            "image/png": "[encoded data removed]"
          },
          "metadata": {
            "needs_background": "light"
          }
        }
      ]
    }
  ]
}