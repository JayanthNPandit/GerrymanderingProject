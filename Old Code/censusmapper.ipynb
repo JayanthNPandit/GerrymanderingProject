{
  "cells": [
    {
      "cell_type": "code",
      "execution_count": 7,
      "metadata": {
        "colab": {
          "base_uri": "https://localhost:8080/",
          "height": 374
        },
        "id": "F_jzDPD8Q5B7",
        "outputId": "f24b65e1-219d-4ab5-8d4a-49665dffcbe1"
      },
      "outputs": [],
      "source": [
        "import pandas as pd\n",
        "\n",
        "# Read the population data from a CSV file\n",
        "pop_data = pd.read_csv('population_data.csv')\n",
        "\n",
        "# Print the first few rows of the data\n",
        "print(pop_data.head())"
      ]
    },
    {
      "cell_type": "code",
      "execution_count": null,
      "metadata": {},
      "outputs": [],
      "source": [
        "import matplotlib.pyplot as plt\n",
        "\n",
        "# Set up the map\n",
        "plt.figure(figsize=(10, 6))\n",
        "plt.title('Voting Districts in Utah')\n",
        "\n",
        "# Add the voting districts to the map\n",
        "for district, row in pop_data.iterrows():\n",
        "    district_name = row['District']\n",
        "    population = row['Population']\n",
        "    plt.scatter(row['Longitude'], row['Latitude'], c=population, s=population / 1000, alpha=0.5)\n",
        "\n",
        "# Show the map\n",
        "plt.show()\n"
      ]
    }
  ],
  "metadata": {
    "colab": {
      "provenance": []
    },
    "kernelspec": {
      "display_name": "Python 3",
      "language": "python",
      "name": "python3"
    },
    "language_info": {
      "codemirror_mode": {
        "name": "ipython",
        "version": 3
      },
      "file_extension": ".py",
      "mimetype": "text/x-python",
      "name": "python",
      "nbconvert_exporter": "python",
      "pygments_lexer": "ipython3",
      "version": "3.10.9 (tags/v3.10.9:1dd9be6, Dec  6 2022, 20:01:21) [MSC v.1934 64 bit (AMD64)]"
    },
    "vscode": {
      "interpreter": {
        "hash": "29f752af12ddc50265228698086901b21b85c96917a46d6cc92c5f365f006ddc"
      }
    }
  },
  "nbformat": 4,
  "nbformat_minor": 0
}
