{
  "nbformat": 4,
  "nbformat_minor": 0,
  "metadata": {
    "colab": {
      "provenance": []
    },
    "kernelspec": {
      "name": "python3",
      "display_name": "Python 3"
    },
    "language_info": {
      "name": "python"
    }
  },
  "cells": [
    {
      "cell_type": "code",
      "source": [
        "pip install pyshp"
      ],
      "metadata": {
        "colab": {
          "base_uri": "https://localhost:8080/"
        },
        "id": "G_pkn-J3y-ll",
        "outputId": "6ce2df06-9fac-44ef-f6fb-204e6674288b"
      },
      "execution_count": null,
      "outputs": [
        {
          "output_type": "stream",
          "name": "stdout",
          "text": [
            "Looking in indexes: https://pypi.org/simple, https://us-python.pkg.dev/colab-wheels/public/simple/\n",
            "Collecting pyshp\n",
            "  Downloading pyshp-2.3.1-py2.py3-none-any.whl (46 kB)\n",
            "\u001b[K     |████████████████████████████████| 46 kB 1.8 MB/s \n",
            "\u001b[?25hInstalling collected packages: pyshp\n",
            "Successfully installed pyshp-2.3.1\n"
          ]
        }
      ]
    },
    {
      "cell_type": "code",
      "execution_count": null,
      "metadata": {
        "id": "F_jzDPD8Q5B7"
      },
      "outputs": [],
      "source": [
        "import numpy as np\n",
        "import pandas as pd\n",
        "import shapefile as shp\n",
        "import matplotlib.pyplot as plt\n",
        "import seaborn as sns"
      ]
    },
    {
      "cell_type": "markdown",
      "source": [
        "grouping villages by population in mapping python gis\n",
        "\n",
        "https://towardsdatascience.com/mapping-geograph-data-in-python-610a963d2d7f\n",
        "\n",
        "https://pro.arcgis.com/en/pro-app/latest/tool-reference/spatial-statistics/how-grouping-analysis-works.htm\n",
        "\n",
        "https://gis.stackexchange.com/questions/306547/cluster-points-into-evenly-numbered-groups\n",
        "\n",
        "https://gis.stackexchange.com/questions/123289/grouping-village-points-based-on-distance-and-population-size-using-arcmap/123297#123297\n",
        "\n",
        "https://www.census.gov/geographies/mapping-files/time-series/geo/carto-boundary-file.html\n",
        "\n",
        "https://gis.utah.gov/"
      ],
      "metadata": {
        "id": "0JWVLcNv6DOo"
      }
    },
    {
      "cell_type": "markdown",
      "source": [
        "To create a voting district map without gerrymandering for the state of Texas, you will need to follow several steps:\n",
        "\n",
        "Define the geographic boundaries of the state of Texas. You can do this using a shapefile or a geojson file.\n",
        "\n",
        "Determine the total population of the state of Texas. You can find this information from the United States Census Bureau or other reliable sources.\n",
        "\n",
        "Divide the total population of the state by the number of districts you want to create. In this case, you want to create districts with approximately 750000 people per district, so you will need to divide the total population by 750000.\n",
        "\n",
        "Use a geographic information system (GIS) tool, such as QGIS or ArcGIS, to create the districts. You can use the \"dissolve\" function to combine adjacent areas with similar population densities into a single district.\n",
        "\n",
        "Review the resulting map to ensure that it meets the requirements for a voting district map without gerrymandering. This includes ensuring that the districts are contiguous and that the population of each district is as close to 750000 as possible.\n",
        "\n",
        "Here is some example code that shows how you can use the PyShp library to read in a shapefile of the state of Texas and calculate the total population:"
      ],
      "metadata": {
        "id": "uTfVRpNeS7qB"
      }
    },
    {
      "cell_type": "code",
      "source": [
        "pip install fiona"
      ],
      "metadata": {
        "colab": {
          "base_uri": "https://localhost:8080/"
        },
        "id": "Ns5HhvoB6FaD",
        "outputId": "e26ea29d-cf0f-4cff-b654-ad6c0c3237c1"
      },
      "execution_count": null,
      "outputs": [
        {
          "output_type": "stream",
          "name": "stdout",
          "text": [
            "Looking in indexes: https://pypi.org/simple, https://us-python.pkg.dev/colab-wheels/public/simple/\n",
            "Collecting fiona\n",
            "  Downloading Fiona-1.8.22-cp38-cp38-manylinux_2_17_x86_64.manylinux2014_x86_64.whl (16.6 MB)\n",
            "\u001b[K     |████████████████████████████████| 16.6 MB 4.2 MB/s \n",
            "\u001b[?25hRequirement already satisfied: setuptools in /usr/local/lib/python3.8/dist-packages (from fiona) (57.4.0)\n",
            "Requirement already satisfied: click>=4.0 in /usr/local/lib/python3.8/dist-packages (from fiona) (7.1.2)\n",
            "Collecting click-plugins>=1.0\n",
            "  Downloading click_plugins-1.1.1-py2.py3-none-any.whl (7.5 kB)\n",
            "Collecting cligj>=0.5\n",
            "  Downloading cligj-0.7.2-py3-none-any.whl (7.1 kB)\n",
            "Requirement already satisfied: six>=1.7 in /usr/local/lib/python3.8/dist-packages (from fiona) (1.15.0)\n",
            "Requirement already satisfied: certifi in /usr/local/lib/python3.8/dist-packages (from fiona) (2022.12.7)\n",
            "Collecting munch\n",
            "  Downloading munch-2.5.0-py2.py3-none-any.whl (10 kB)\n",
            "Requirement already satisfied: attrs>=17 in /usr/local/lib/python3.8/dist-packages (from fiona) (22.1.0)\n",
            "Installing collected packages: munch, cligj, click-plugins, fiona\n",
            "Successfully installed click-plugins-1.1.1 cligj-0.7.2 fiona-1.8.22 munch-2.5.0\n"
          ]
        }
      ]
    },
    {
      "cell_type": "code",
      "source": [
        "import json\n",
        "\n",
        "# Define the GeoJSON data\n",
        "data = {\n",
        "    \"type\": \"FeatureCollection\",\n",
        "    \"features\": [\n",
        "        {\n",
        "            \"type\": \"Feature\",\n",
        "            \"geometry\": {\n",
        "                \"type\": \"Polygon\",\n",
        "                \"coordinates\": [[[-97.5, 26.5], [-97.5, 30.5], [-93.5, 30.5], [-93.5, 26.5], [-97.5, 26.5]]]\n",
        "            },\n",
        "            \"properties\": {\n",
        "                \"district_id\": 1,\n",
        "                \"district_name\": \"District 1\"\n",
        "            }\n",
        "        },\n",
        "        {\n",
        "            \"type\": \"Feature\",\n",
        "            \"geometry\": {\n",
        "                \"type\": \"Polygon\",\n",
        "                \"coordinates\": [[[-97.5, 26.5], [-97.5, 30.5], [-93.5, 30.5], [-93.5, 26.5], [-97.5, 26.5]]]\n",
        "            },\n",
        "            \"properties\": {\n",
        "                \"district_id\": 2,\n",
        "                \"district_name\": \"District 2\"\n",
        "            }\n",
        "        }\n",
        "    ]\n",
        "}\n",
        "\n",
        "# Save the data to a file\n",
        "with open(\"texas_voting_districts.geojson\", \"w\") as f:\n",
        "    json.dump(data, f)"
      ],
      "metadata": {
        "id": "dZYvP-Sl6xQS"
      },
      "execution_count": null,
      "outputs": []
    },
    {
      "cell_type": "code",
      "source": [
        "import fiona\n",
        "\n",
        "# Read in the GeoJSON file\n",
        "with open(\"texas_voting_districts.geojson\") as f:\n",
        "    data = json.load(f)\n",
        "\n",
        "# Define the shapefile schema\n",
        "schema = {\n",
        "    'geometry': 'Polygon',\n",
        "    'properties': {\n",
        "        'district_id': 'int',\n",
        "        'district_name': 'str'\n",
        "    }\n",
        "}\n",
        "\n",
        "# Create the shapefile\n",
        "with fiona.open(\"texas_voting_districts.shp\", \"w\", \"ESRI Shapefile\", schema) as shapefile:\n",
        "    # Loop through the features in the GeoJSON file and add them to the shapefile\n",
        "    for feature in data['features']:\n",
        "        shapefile.write(feature)\n",
        "\n",
        "# Plots shapefile\n",
        "def plot_map(sf, x_lim = None, y_lim = None, figsize = (11,9)):\n",
        "    '''\n",
        "    Plot map with lim coordinates\n",
        "    '''\n",
        "    plt.figure(figsize = figsize)\n",
        "    id=0\n",
        "    for shape in sf.shapeRecords():\n",
        "        x = [i[0] for i in shape.shape.points[:]]\n",
        "        y = [i[1] for i in shape.shape.points[:]]\n",
        "        plt.plot(x, y, 'k')\n",
        "        \n",
        "        if (x_lim == None) & (y_lim == None):\n",
        "            x0 = np.mean(x)\n",
        "            y0 = np.mean(y)\n",
        "            plt.text(x0, y0, id, fontsize=10)\n",
        "        id = id+1\n",
        "    \n",
        "    if (x_lim != None) & (y_lim != None):     \n",
        "        plt.xlim(x_lim)\n",
        "        plt.ylim(y_lim)\n",
        "\n",
        "plot_map(shp)\n"
      ],
      "metadata": {
        "colab": {
          "base_uri": "https://localhost:8080/",
          "height": 374
        },
        "id": "RdJhqh_p1_yk",
        "outputId": "0538e183-c9b1-467d-c65b-1128debe8226"
      },
      "execution_count": null,
      "outputs": [
        {
          "output_type": "stream",
          "name": "stderr",
          "text": [
            "WARNING:fiona._env:Normalized/laundered field name: 'district_id' to 'district_i'\n",
            "WARNING:fiona._env:Normalized/laundered field name: 'district_name' to 'district_n'\n"
          ]
        },
        {
          "output_type": "error",
          "ename": "AttributeError",
          "evalue": "ignored",
          "traceback": [
            "\u001b[0;31m---------------------------------------------------------------------------\u001b[0m",
            "\u001b[0;31mAttributeError\u001b[0m                            Traceback (most recent call last)",
            "\u001b[0;32m<ipython-input-5-ef5865d6cd85>\u001b[0m in \u001b[0;36m<module>\u001b[0;34m\u001b[0m\n\u001b[1;32m     42\u001b[0m         \u001b[0mplt\u001b[0m\u001b[0;34m.\u001b[0m\u001b[0mylim\u001b[0m\u001b[0;34m(\u001b[0m\u001b[0my_lim\u001b[0m\u001b[0;34m)\u001b[0m\u001b[0;34m\u001b[0m\u001b[0;34m\u001b[0m\u001b[0m\n\u001b[1;32m     43\u001b[0m \u001b[0;34m\u001b[0m\u001b[0m\n\u001b[0;32m---> 44\u001b[0;31m \u001b[0mplot_map\u001b[0m\u001b[0;34m(\u001b[0m\u001b[0mshp\u001b[0m\u001b[0;34m)\u001b[0m\u001b[0;34m\u001b[0m\u001b[0;34m\u001b[0m\u001b[0m\n\u001b[0m",
            "\u001b[0;32m<ipython-input-5-ef5865d6cd85>\u001b[0m in \u001b[0;36mplot_map\u001b[0;34m(sf, x_lim, y_lim, figsize)\u001b[0m\n\u001b[1;32m     27\u001b[0m     \u001b[0mplt\u001b[0m\u001b[0;34m.\u001b[0m\u001b[0mfigure\u001b[0m\u001b[0;34m(\u001b[0m\u001b[0mfigsize\u001b[0m \u001b[0;34m=\u001b[0m \u001b[0mfigsize\u001b[0m\u001b[0;34m)\u001b[0m\u001b[0;34m\u001b[0m\u001b[0;34m\u001b[0m\u001b[0m\n\u001b[1;32m     28\u001b[0m     \u001b[0mid\u001b[0m\u001b[0;34m=\u001b[0m\u001b[0;36m0\u001b[0m\u001b[0;34m\u001b[0m\u001b[0;34m\u001b[0m\u001b[0m\n\u001b[0;32m---> 29\u001b[0;31m     \u001b[0;32mfor\u001b[0m \u001b[0mshape\u001b[0m \u001b[0;32min\u001b[0m \u001b[0msf\u001b[0m\u001b[0;34m.\u001b[0m\u001b[0mshapeRecords\u001b[0m\u001b[0;34m(\u001b[0m\u001b[0;34m)\u001b[0m\u001b[0;34m:\u001b[0m\u001b[0;34m\u001b[0m\u001b[0;34m\u001b[0m\u001b[0m\n\u001b[0m\u001b[1;32m     30\u001b[0m         \u001b[0mx\u001b[0m \u001b[0;34m=\u001b[0m \u001b[0;34m[\u001b[0m\u001b[0mi\u001b[0m\u001b[0;34m[\u001b[0m\u001b[0;36m0\u001b[0m\u001b[0;34m]\u001b[0m \u001b[0;32mfor\u001b[0m \u001b[0mi\u001b[0m \u001b[0;32min\u001b[0m \u001b[0mshape\u001b[0m\u001b[0;34m.\u001b[0m\u001b[0mshape\u001b[0m\u001b[0;34m.\u001b[0m\u001b[0mpoints\u001b[0m\u001b[0;34m[\u001b[0m\u001b[0;34m:\u001b[0m\u001b[0;34m]\u001b[0m\u001b[0;34m]\u001b[0m\u001b[0;34m\u001b[0m\u001b[0;34m\u001b[0m\u001b[0m\n\u001b[1;32m     31\u001b[0m         \u001b[0my\u001b[0m \u001b[0;34m=\u001b[0m \u001b[0;34m[\u001b[0m\u001b[0mi\u001b[0m\u001b[0;34m[\u001b[0m\u001b[0;36m1\u001b[0m\u001b[0;34m]\u001b[0m \u001b[0;32mfor\u001b[0m \u001b[0mi\u001b[0m \u001b[0;32min\u001b[0m \u001b[0mshape\u001b[0m\u001b[0;34m.\u001b[0m\u001b[0mshape\u001b[0m\u001b[0;34m.\u001b[0m\u001b[0mpoints\u001b[0m\u001b[0;34m[\u001b[0m\u001b[0;34m:\u001b[0m\u001b[0;34m]\u001b[0m\u001b[0;34m]\u001b[0m\u001b[0;34m\u001b[0m\u001b[0;34m\u001b[0m\u001b[0m\n",
            "\u001b[0;31mAttributeError\u001b[0m: module 'shapefile' has no attribute 'shapeRecords'"
          ]
        },
        {
          "output_type": "display_data",
          "data": {
            "text/plain": [
              "<Figure size 792x648 with 0 Axes>"
            ]
          },
          "metadata": {}
        }
      ]
    },
    {
      "cell_type": "code",
      "source": [
        "num_districts = total_population / population_per_district\n",
        "\n",
        "# Read in the shapefile using PyShp\n",
        "sf = shapefile.Reader(\"texas.shp\")\n",
        "\n",
        "# Calculate the total population\n",
        "total_population = 0\n",
        "for record in sf.records():\n",
        "  population = record[1]\n",
        "  total_population += population\n",
        "\n",
        "print(total_population)\n",
        "\n",
        "# Calculate the number of districts needed\n",
        "num_districts = total_population / population_per_district\n",
        "\n",
        "# Create the districts using the \"dissolve\" function\n",
        "districts = sf.dissolve(by=\"POPULATION\", num_parts=num_districts)\n",
        "\n",
        "# Save the districts to a new shapefile\n",
        "districts.save(\"texas_districts.shp\")"
      ],
      "metadata": {
        "colab": {
          "base_uri": "https://localhost:8080/",
          "height": 235
        },
        "id": "M8aPaokfTSyA",
        "outputId": "47b0ca76-c5eb-4274-91d5-b5d932b10e56"
      },
      "execution_count": null,
      "outputs": [
        {
          "output_type": "error",
          "ename": "NameError",
          "evalue": "ignored",
          "traceback": [
            "\u001b[0;31m---------------------------------------------------------------------------\u001b[0m",
            "\u001b[0;31mNameError\u001b[0m                                 Traceback (most recent call last)",
            "\u001b[0;32m<ipython-input-22-68264f750213>\u001b[0m in \u001b[0;36m<module>\u001b[0;34m\u001b[0m\n\u001b[0;32m----> 1\u001b[0;31m \u001b[0mnum_districts\u001b[0m \u001b[0;34m=\u001b[0m \u001b[0mtotal_population\u001b[0m \u001b[0;34m/\u001b[0m \u001b[0mpopulation_per_district\u001b[0m\u001b[0;34m\u001b[0m\u001b[0;34m\u001b[0m\u001b[0m\n\u001b[0m\u001b[1;32m      2\u001b[0m \u001b[0;34m\u001b[0m\u001b[0m\n\u001b[1;32m      3\u001b[0m \u001b[0;31m# Read in the shapefile using PyShp\u001b[0m\u001b[0;34m\u001b[0m\u001b[0;34m\u001b[0m\u001b[0;34m\u001b[0m\u001b[0m\n\u001b[1;32m      4\u001b[0m \u001b[0msf\u001b[0m \u001b[0;34m=\u001b[0m \u001b[0mshapefile\u001b[0m\u001b[0;34m.\u001b[0m\u001b[0mReader\u001b[0m\u001b[0;34m(\u001b[0m\u001b[0;34m\"texas.shp\"\u001b[0m\u001b[0;34m)\u001b[0m\u001b[0;34m\u001b[0m\u001b[0;34m\u001b[0m\u001b[0m\n\u001b[1;32m      5\u001b[0m \u001b[0;34m\u001b[0m\u001b[0m\n",
            "\u001b[0;31mNameError\u001b[0m: name 'total_population' is not defined"
          ]
        }
      ]
    },
    {
      "cell_type": "code",
      "source": [
        "import folium\n",
        "import shapefile\n",
        "\n",
        "# Read in the shapefile using PyShp\n",
        "sf = shapefile.Reader(\"texas_voting_districts.shp\")\n",
        "\n",
        "# Create a Folium map centered on the state of Texas\n",
        "m = folium.Map(location=[31.9686, -99.9018], zoom_start=6)\n",
        "\n",
        "# Loop through the shapes in the shapefile and add them to the map as polygons\n",
        "for shape in sf.shapes():\n",
        "  # Get the coordinates of the polygon\n",
        "  coords = shape.points\n",
        "\n",
        "  # Create a Folium Polygon object\n",
        "  poly = folium.Polygon(coords, color=\"red\", fill=True)\n",
        "\n",
        "  # Add the polygon to the map\n",
        "  poly.add_to(m)\n",
        "\n",
        "# Save the map to an HTML file\n",
        "m.save(\"texas_map.html\")\n"
      ],
      "metadata": {
        "id": "S_uHfIwtTn76"
      },
      "execution_count": null,
      "outputs": []
    }
  ]
}